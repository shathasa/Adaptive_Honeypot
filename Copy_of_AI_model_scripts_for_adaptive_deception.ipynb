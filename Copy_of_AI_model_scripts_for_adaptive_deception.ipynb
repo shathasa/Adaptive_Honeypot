{
  "nbformat": 4,
  "nbformat_minor": 0,
  "metadata": {
    "colab": {
      "provenance": []
    },
    "kernelspec": {
      "name": "python3",
      "display_name": "Python 3"
    },
    "language_info": {
      "name": "python"
    }
  },
  "cells": [
    {
      "cell_type": "markdown",
      "source": [
        "# AI model for adaptive deception"
      ],
      "metadata": {
        "id": "uY7k8xGcjNHF"
      }
    },
    {
      "cell_type": "code",
      "execution_count": 1,
      "metadata": {
        "id": "CEMTt8FgAwme"
      },
      "outputs": [],
      "source": [
        "# import necessary libraries\n",
        "import json\n",
        "import pandas as pd\n",
        "import numpy as np\n",
        "import joblib\n",
        "from datetime import datetime\n",
        "from sklearn.preprocessing import LabelEncoder\n",
        "from sklearn.ensemble import RandomForestClassifier\n",
        "from sklearn.model_selection import train_test_split, GridSearchCV, StratifiedKFold\n",
        "from sklearn.metrics import classification_report, confusion_matrix\n",
        "from imblearn.pipeline import Pipeline as ImbPipeline\n",
        "from imblearn.over_sampling import SMOTE\n",
        "from sklearn.model_selection import cross_val_score"
      ]
    },
    {
      "cell_type": "markdown",
      "source": [
        "# 1. Data Loading and Preprocessing"
      ],
      "metadata": {
        "id": "it9ANJxSh43D"
      }
    },
    {
      "cell_type": "code",
      "source": [
        "with open('cowrie.json') as f:\n",
        "    data = [json.loads(line) for line in f]\n",
        "\n",
        "df = pd.DataFrame(data)\n",
        "print(f\"Total records: {len(df)}\")\n",
        "\n",
        "# Data Cleaning\n",
        "df = df.dropna(subset=['src_ip', 'eventid'])\n",
        "df['timestamp'] = pd.to_datetime(df['timestamp'])\n",
        "df = df.sort_values('timestamp')\n",
        "\n",
        "# Fill missing values\n",
        "df['username'] = df['username'].fillna('unknown')\n",
        "df['password'] = df['password'].fillna('')\n",
        "df['duration'] = pd.to_numeric(df['duration'], errors='coerce').fillna(0)"
      ],
      "metadata": {
        "colab": {
          "base_uri": "https://localhost:8080/"
        },
        "id": "ZU9QR70eh3nL",
        "outputId": "74d8bf03-03cc-483e-9c94-a5c4d633540e"
      },
      "execution_count": 2,
      "outputs": [
        {
          "output_type": "stream",
          "name": "stdout",
          "text": [
            "Total records: 403\n"
          ]
        }
      ]
    },
    {
      "cell_type": "markdown",
      "source": [
        "# 2. Feature Engineering"
      ],
      "metadata": {
        "id": "5e9MAqGUiCGO"
      }
    },
    {
      "cell_type": "code",
      "source": [
        "# Time-based features\n",
        "df['hour'] = df['timestamp'].dt.hour\n",
        "df['time_since_first'] = (df['timestamp'] - df['timestamp'].min()).dt.total_seconds()\n",
        "df['time_since_last'] = df.groupby('src_ip')['timestamp'].diff().dt.total_seconds().fillna(0)\n",
        "\n",
        "# Behavioral features\n",
        "df['login_success'] = df['eventid'].apply(lambda x: 1 if x == 'cowrie.login.success' else 0)\n",
        "df['login_failed'] = df['eventid'].apply(lambda x: 1 if x == 'cowrie.login.failed' else 0)\n",
        "df['login_attempts'] = df.groupby('src_ip')['eventid'].transform(lambda x: x.str.contains('login').sum())\n",
        "df['success_rate'] = df.groupby('src_ip')['login_success'].transform('mean')\n",
        "\n",
        "# Security-specific features\n",
        "df['password_length'] = df['password'].str.len().fillna(0)\n",
        "df['is_common_username'] = df['username'].isin(['admin', 'root', 'test']).astype(int)\n",
        "df['is_common_password'] = df['password'].isin(['123456', 'password', 'admin']).astype(int)\n",
        "df['suspicious_command'] = df['input'].str.contains('wget|curl|chmod|rm -rf|sudo', case=False).fillna(0).astype(int)\n",
        "\n",
        "# Define attack types based on behavioral patterns\n",
        "df['attack_type'] = 'normal'  # Default label\n",
        "\n",
        "# Brute Force: High attempts, low success\n",
        "df.loc[(df['login_attempts'] > 5) & (df['success_rate'] < 0.1), 'attack_type'] = 'brute_force'\n",
        "\n",
        "# Credential Stuffing: Common credentials\n",
        "common_creds = df['is_common_username'].astype(bool) | df['is_common_password'].astype(bool)\n",
        "df.loc[common_creds, 'attack_type'] = 'credential_stuffing'\n",
        "\n",
        "\n",
        "# Verify class distribution\n",
        "print(\"\\nAttack Type Distribution:\")\n",
        "print(df['attack_type'].value_counts())"
      ],
      "metadata": {
        "colab": {
          "base_uri": "https://localhost:8080/"
        },
        "id": "brki78zdiClK",
        "outputId": "06621c50-b8c2-427e-b58e-9670db48c2c5"
      },
      "execution_count": 3,
      "outputs": [
        {
          "output_type": "stream",
          "name": "stdout",
          "text": [
            "\n",
            "Attack Type Distribution:\n",
            "attack_type\n",
            "brute_force            295\n",
            "normal                  92\n",
            "credential_stuffing     16\n",
            "Name: count, dtype: int64\n"
          ]
        }
      ]
    },
    {
      "cell_type": "markdown",
      "source": [
        "# 3. Encoding Implementation"
      ],
      "metadata": {
        "id": "lanb1Kd-iPG_"
      }
    },
    {
      "cell_type": "code",
      "source": [
        "ip_encoder = LabelEncoder()\n",
        "user_encoder = LabelEncoder()\n",
        "event_encoder = LabelEncoder()\n",
        "\n",
        "ip_encoder.fit(pd.concat([df['src_ip'], pd.Series(['unknown'])])) # Fit on all values including 'unknown'\n",
        "user_encoder.fit(pd.concat([df['username'], pd.Series(['unknown'])]))\n",
        "event_encoder.fit(pd.concat([df['eventid'], pd.Series(['UNK_EVENT'])]))\n",
        "\n",
        "df['src_ip_encoded'] = ip_encoder.transform(df['src_ip'])\n",
        "df['username_encoded'] = user_encoder.transform(df['username'])\n",
        "df['event_encoded'] = event_encoder.transform(df['eventid'])"
      ],
      "metadata": {
        "id": "Di3fY240iPax"
      },
      "execution_count": 4,
      "outputs": []
    },
    {
      "cell_type": "markdown",
      "source": [
        "# 4. Model Training with Proper Pipeline\n"
      ],
      "metadata": {
        "id": "XRhlocNWiYbP"
      }
    },
    {
      "cell_type": "code",
      "source": [
        "features = [\n",
        "    'src_ip_encoded',\n",
        "    'username_encoded',\n",
        "    'hour',\n",
        "    'duration',\n",
        "    'login_attempts',\n",
        "    'success_rate',\n",
        "    'time_since_first',\n",
        "    'time_since_last',\n",
        "    'password_length',\n",
        "    'is_common_username',\n",
        "    'is_common_password',\n",
        "    'suspicious_command'\n",
        "]\n",
        "\n",
        "X = df[features]\n",
        "y = df['attack_type']\n",
        "\n",
        "# Before splitting, handle NaNs:\n",
        "X.fillna(X.mean(), inplace=True)  # Replace NaNs with the mean of each column\n",
        "\n",
        "# Handle NaNs in 'y' by replacing with the most frequent category:\n",
        "y.fillna(y.mode()[0], inplace=True)\n",
        "\n",
        "X_train, X_test, y_train, y_test = train_test_split(X, y, test_size=0.3, random_state=42)\n",
        "\n",
        "# Improved Pipeline with SMOTE and Class Weighting\n",
        "pipeline = ImbPipeline([\n",
        "    ('smote', SMOTE(random_state=42, k_neighbors=3)),\n",
        "    ('rf', RandomForestClassifier(class_weight='balanced', random_state=42))\n",
        "])\n",
        "\n",
        "param_grid = {\n",
        "    'rf__n_estimators': [100, 200],\n",
        "    'rf__max_depth': [10, 20, None],\n",
        "    'rf__min_samples_split': [2, 5],\n",
        "    'rf__max_features': ['sqrt']\n",
        "}\n",
        "\n",
        "grid_search = GridSearchCV(\n",
        "    pipeline,\n",
        "    param_grid,\n",
        "    cv=StratifiedKFold(n_splits=3),\n",
        "    scoring='f1_weighted',\n",
        "    verbose=2\n",
        ")\n",
        "\n",
        "grid_search.fit(X_train, y_train)\n",
        "best_model = grid_search.best_estimator_"
      ],
      "metadata": {
        "colab": {
          "base_uri": "https://localhost:8080/"
        },
        "id": "33PgWpIJiaST",
        "outputId": "e25d937f-fa60-43e9-b896-576e0828e8e6"
      },
      "execution_count": 5,
      "outputs": [
        {
          "output_type": "stream",
          "name": "stderr",
          "text": [
            "<ipython-input-5-5332c67398fc>:20: SettingWithCopyWarning: \n",
            "A value is trying to be set on a copy of a slice from a DataFrame\n",
            "\n",
            "See the caveats in the documentation: https://pandas.pydata.org/pandas-docs/stable/user_guide/indexing.html#returning-a-view-versus-a-copy\n",
            "  X.fillna(X.mean(), inplace=True)  # Replace NaNs with the mean of each column\n"
          ]
        },
        {
          "output_type": "stream",
          "name": "stdout",
          "text": [
            "Fitting 3 folds for each of 12 candidates, totalling 36 fits\n",
            "[CV] END rf__max_depth=10, rf__max_features=sqrt, rf__min_samples_split=2, rf__n_estimators=100; total time=   0.2s\n",
            "[CV] END rf__max_depth=10, rf__max_features=sqrt, rf__min_samples_split=2, rf__n_estimators=100; total time=   0.2s\n",
            "[CV] END rf__max_depth=10, rf__max_features=sqrt, rf__min_samples_split=2, rf__n_estimators=100; total time=   0.2s\n",
            "[CV] END rf__max_depth=10, rf__max_features=sqrt, rf__min_samples_split=2, rf__n_estimators=200; total time=   0.4s\n",
            "[CV] END rf__max_depth=10, rf__max_features=sqrt, rf__min_samples_split=2, rf__n_estimators=200; total time=   0.4s\n",
            "[CV] END rf__max_depth=10, rf__max_features=sqrt, rf__min_samples_split=2, rf__n_estimators=200; total time=   0.4s\n",
            "[CV] END rf__max_depth=10, rf__max_features=sqrt, rf__min_samples_split=5, rf__n_estimators=100; total time=   0.2s\n",
            "[CV] END rf__max_depth=10, rf__max_features=sqrt, rf__min_samples_split=5, rf__n_estimators=100; total time=   0.2s\n",
            "[CV] END rf__max_depth=10, rf__max_features=sqrt, rf__min_samples_split=5, rf__n_estimators=100; total time=   0.2s\n",
            "[CV] END rf__max_depth=10, rf__max_features=sqrt, rf__min_samples_split=5, rf__n_estimators=200; total time=   0.4s\n",
            "[CV] END rf__max_depth=10, rf__max_features=sqrt, rf__min_samples_split=5, rf__n_estimators=200; total time=   0.4s\n",
            "[CV] END rf__max_depth=10, rf__max_features=sqrt, rf__min_samples_split=5, rf__n_estimators=200; total time=   0.4s\n",
            "[CV] END rf__max_depth=20, rf__max_features=sqrt, rf__min_samples_split=2, rf__n_estimators=100; total time=   0.2s\n",
            "[CV] END rf__max_depth=20, rf__max_features=sqrt, rf__min_samples_split=2, rf__n_estimators=100; total time=   0.2s\n",
            "[CV] END rf__max_depth=20, rf__max_features=sqrt, rf__min_samples_split=2, rf__n_estimators=100; total time=   0.2s\n",
            "[CV] END rf__max_depth=20, rf__max_features=sqrt, rf__min_samples_split=2, rf__n_estimators=200; total time=   0.4s\n",
            "[CV] END rf__max_depth=20, rf__max_features=sqrt, rf__min_samples_split=2, rf__n_estimators=200; total time=   0.6s\n",
            "[CV] END rf__max_depth=20, rf__max_features=sqrt, rf__min_samples_split=2, rf__n_estimators=200; total time=   0.6s\n",
            "[CV] END rf__max_depth=20, rf__max_features=sqrt, rf__min_samples_split=5, rf__n_estimators=100; total time=   0.3s\n",
            "[CV] END rf__max_depth=20, rf__max_features=sqrt, rf__min_samples_split=5, rf__n_estimators=100; total time=   0.3s\n",
            "[CV] END rf__max_depth=20, rf__max_features=sqrt, rf__min_samples_split=5, rf__n_estimators=100; total time=   0.4s\n",
            "[CV] END rf__max_depth=20, rf__max_features=sqrt, rf__min_samples_split=5, rf__n_estimators=200; total time=   0.6s\n",
            "[CV] END rf__max_depth=20, rf__max_features=sqrt, rf__min_samples_split=5, rf__n_estimators=200; total time=   0.4s\n",
            "[CV] END rf__max_depth=20, rf__max_features=sqrt, rf__min_samples_split=5, rf__n_estimators=200; total time=   0.4s\n",
            "[CV] END rf__max_depth=None, rf__max_features=sqrt, rf__min_samples_split=2, rf__n_estimators=100; total time=   0.2s\n",
            "[CV] END rf__max_depth=None, rf__max_features=sqrt, rf__min_samples_split=2, rf__n_estimators=100; total time=   0.2s\n",
            "[CV] END rf__max_depth=None, rf__max_features=sqrt, rf__min_samples_split=2, rf__n_estimators=100; total time=   0.2s\n",
            "[CV] END rf__max_depth=None, rf__max_features=sqrt, rf__min_samples_split=2, rf__n_estimators=200; total time=   0.4s\n",
            "[CV] END rf__max_depth=None, rf__max_features=sqrt, rf__min_samples_split=2, rf__n_estimators=200; total time=   0.4s\n",
            "[CV] END rf__max_depth=None, rf__max_features=sqrt, rf__min_samples_split=2, rf__n_estimators=200; total time=   0.4s\n",
            "[CV] END rf__max_depth=None, rf__max_features=sqrt, rf__min_samples_split=5, rf__n_estimators=100; total time=   0.2s\n",
            "[CV] END rf__max_depth=None, rf__max_features=sqrt, rf__min_samples_split=5, rf__n_estimators=100; total time=   0.2s\n",
            "[CV] END rf__max_depth=None, rf__max_features=sqrt, rf__min_samples_split=5, rf__n_estimators=100; total time=   0.2s\n",
            "[CV] END rf__max_depth=None, rf__max_features=sqrt, rf__min_samples_split=5, rf__n_estimators=200; total time=   0.4s\n",
            "[CV] END rf__max_depth=None, rf__max_features=sqrt, rf__min_samples_split=5, rf__n_estimators=200; total time=   0.4s\n",
            "[CV] END rf__max_depth=None, rf__max_features=sqrt, rf__min_samples_split=5, rf__n_estimators=200; total time=   0.4s\n"
          ]
        }
      ]
    },
    {
      "cell_type": "markdown",
      "source": [
        "# 5. Evaluation and Model Saving\n"
      ],
      "metadata": {
        "id": "-0LX4i8filU1"
      }
    },
    {
      "cell_type": "code",
      "source": [
        "y_pred = best_model.predict(X_test)\n",
        "# After model training\n",
        "print(\"Classification Report:\\n\", classification_report(y_test, y_pred, target_names=df['attack_type'].unique()))\n",
        "print(\"Confusion Matrix:\\n\", confusion_matrix(y_test, y_pred))\n",
        "\n",
        "#Cross Validation\n",
        "scores = cross_val_score(best_model, X_train, y_train, cv=3, scoring='accuracy')\n",
        "print(f\"Cross-validation scores: {scores}\")\n",
        "print(f\"Average CV accuracy: {scores.mean()}\")\n",
        "\n",
        "# Save complete model package\n",
        "final_package = {\n",
        "    'model': best_model,\n",
        "    'encoders': {\n",
        "        'ip': ip_encoder,\n",
        "        'user': user_encoder,\n",
        "        'event': event_encoder\n",
        "    },\n",
        "    'metadata': {\n",
        "        'features': features,\n",
        "        'thresholds': {\n",
        "            'brute_force': 0.7,\n",
        "            'credential_stuffing': 0.6,  # Lower threshold for rare class\n",
        "            'normal': 0.9\n",
        "        },\n",
        "        'training_date': datetime.now().strftime(\"%Y-%m-%d\")\n",
        "    }\n",
        "}\n",
        "\n",
        "joblib.dump(final_package, 'prod_model_v1.pkl')"
      ],
      "metadata": {
        "colab": {
          "base_uri": "https://localhost:8080/"
        },
        "id": "AS4LGKymilrv",
        "outputId": "dd1c68af-9743-4273-db9b-5eec01a6e456"
      },
      "execution_count": 6,
      "outputs": [
        {
          "output_type": "stream",
          "name": "stdout",
          "text": [
            "Classification Report:\n",
            "                      precision    recall  f1-score   support\n",
            "\n",
            "             normal       1.00      0.99      0.99        83\n",
            "credential_stuffing       0.67      0.50      0.57         4\n",
            "        brute_force       0.94      1.00      0.97        34\n",
            "\n",
            "           accuracy                           0.98       121\n",
            "          macro avg       0.87      0.83      0.85       121\n",
            "       weighted avg       0.97      0.98      0.97       121\n",
            "\n",
            "Confusion Matrix:\n",
            " [[82  1  0]\n",
            " [ 0  2  2]\n",
            " [ 0  0 34]]\n",
            "Cross-validation scores: [0.94680851 0.96808511 0.96808511]\n",
            "Average CV accuracy: 0.9609929078014184\n"
          ]
        },
        {
          "output_type": "execute_result",
          "data": {
            "text/plain": [
              "['prod_model_v1.pkl']"
            ]
          },
          "metadata": {},
          "execution_count": 6
        }
      ]
    }
  ]
}